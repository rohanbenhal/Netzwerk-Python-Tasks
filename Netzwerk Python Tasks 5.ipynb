{
 "cells": [
  {
   "cell_type": "markdown",
   "metadata": {},
   "source": [
    "# Task 11.1\n",
    "Explain Return keyword with example"
   ]
  },
  {
   "cell_type": "markdown",
   "metadata": {},
   "source": [
    "## The return keyword is to exit a function and return a value"
   ]
  },
  {
   "cell_type": "code",
   "execution_count": 1,
   "metadata": {},
   "outputs": [
    {
     "data": {
      "text/plain": [
       "32"
      ]
     },
     "execution_count": 1,
     "metadata": {},
     "output_type": "execute_result"
    }
   ],
   "source": [
    "def myfunc(a,b) :\n",
    "    return a**b\n",
    "myfunc(2,5)"
   ]
  },
  {
   "cell_type": "markdown",
   "metadata": {},
   "source": [
    "# Task11.2\n",
    "Ask 2 numbers from users and store it in num1 and num2\n",
    "\n",
    "Ask user to press 1 for addition,2 for subtraction,3 for multiplication and 4 for division\n",
    "\n",
    "Create 4 seperate functions for each operation (i.e. addition,subtraction,multiplication and division)\n",
    "\n",
    "Based on number given by user,call that perticular function and print the output"
   ]
  },
  {
   "cell_type": "code",
   "execution_count": 2,
   "metadata": {},
   "outputs": [
    {
     "name": "stdout",
     "output_type": "stream",
     "text": [
      "Enter Number = 5\n",
      "Enter Number = 5\n",
      "Enter 1 for addition, 2 for subtraction, 3 for multiplication, 4 for division\n",
      "Enter Choice = 3\n",
      "Result =  25\n"
     ]
    }
   ],
   "source": [
    "def add(x,y):\n",
    "    return x+y\n",
    "\n",
    "def sub(x,y):\n",
    "    return x-y\n",
    "    \n",
    "def mul(x,y):\n",
    "    return x*y\n",
    "\n",
    "def div(x,y):\n",
    "    return(x/y)\n",
    "\n",
    "num1 = int(input(\"Enter Number = \"))\n",
    "num2 = int(input(\"Enter Number = \"))\n",
    "print(\"Enter 1 for addition, 2 for subtraction, 3 for multiplication, 4 for division\")\n",
    "choice = input(\"Enter Choice = \")\n",
    "\n",
    "if choice == \"1\" :\n",
    "    print(\"Result = \", add(num1,num2))\n",
    "    \n",
    "elif choice == \"2\" :\n",
    "    print(\"Result = \", sub(num1,num2))\n",
    "    \n",
    "elif choice == \"3\" :\n",
    "    print(\"Result = \", mul(num1,num2))\n",
    "    \n",
    "elif choice == \"4\" :\n",
    "    print(\"Result = \", div(num1,num2))\n",
    "    \n",
    "else :\n",
    "    print(\"Enter valid choice\")"
   ]
  }
 ],
 "metadata": {
  "kernelspec": {
   "display_name": "Python 3",
   "language": "python",
   "name": "python3"
  },
  "language_info": {
   "codemirror_mode": {
    "name": "ipython",
    "version": 3
   },
   "file_extension": ".py",
   "mimetype": "text/x-python",
   "name": "python",
   "nbconvert_exporter": "python",
   "pygments_lexer": "ipython3",
   "version": "3.8.5"
  }
 },
 "nbformat": 4,
 "nbformat_minor": 4
}
