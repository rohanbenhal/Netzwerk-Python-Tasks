{
  "nbformat": 4,
  "nbformat_minor": 0,
  "metadata": {
    "colab": {
      "name": "Netzwerk Tasks 4.ipynb",
      "provenance": [],
      "authorship_tag": "ABX9TyPBWDyD7kGmU6EPmAqH7/ud",
      "include_colab_link": true
    },
    "kernelspec": {
      "name": "python3",
      "display_name": "Python 3"
    }
  },
  "cells": [
    {
      "cell_type": "markdown",
      "metadata": {
        "id": "view-in-github",
        "colab_type": "text"
      },
      "source": [
        "<a href=\"https://colab.research.google.com/github/rohanbenhal/Netzwerk-Python-Tasks/blob/main/Netzwerk%20Tasks%204.ipynb\" target=\"_parent\"><img src=\"https://colab.research.google.com/assets/colab-badge.svg\" alt=\"Open In Colab\"/></a>"
      ]
    },
    {
      "cell_type": "markdown",
      "metadata": {
        "id": "vzjTU_wlHUQK"
      },
      "source": [
        "**Task 10**\r\n",
        "\r\n",
        "Using while loop print numbers from 10 to 1.\r\n",
        "\r\n",
        "Try using for loop to loop over tuples,sets and dictionaries."
      ]
    },
    {
      "cell_type": "code",
      "metadata": {
        "id": "8NYEd0NM2ea-",
        "colab": {
          "base_uri": "https://localhost:8080/"
        },
        "outputId": "f938cce7-cd2a-416d-f0f8-61a9e1e817dd"
      },
      "source": [
        "i = 10\r\n",
        "while i > 0:\r\n",
        "  print(i)\r\n",
        "  i -= 1"
      ],
      "execution_count": 2,
      "outputs": [
        {
          "output_type": "stream",
          "text": [
            "10\n",
            "9\n",
            "8\n",
            "7\n",
            "6\n",
            "5\n",
            "4\n",
            "3\n",
            "2\n",
            "1\n"
          ],
          "name": "stdout"
        }
      ]
    },
    {
      "cell_type": "markdown",
      "metadata": {
        "id": "9Jjh4AxQLgAF"
      },
      "source": [
        "**Task 10.1**\r\n",
        "\r\n",
        "What is the usage of continue with an example"
      ]
    },
    {
      "cell_type": "code",
      "metadata": {
        "colab": {
          "base_uri": "https://localhost:8080/"
        },
        "id": "ifFYRqeWLn1i",
        "outputId": "63a15a00-efae-43ce-818a-cd0f6a29c321"
      },
      "source": [
        "# Continue is used to skip. It will skip the statements we provide.\r\n",
        "\r\n",
        "for i in range(1,10):\r\n",
        "    if i == 3 :\r\n",
        "        continue\r\n",
        "    else:\r\n",
        "        print(i)"
      ],
      "execution_count": 3,
      "outputs": [
        {
          "output_type": "stream",
          "text": [
            "1\n",
            "2\n",
            "4\n",
            "5\n",
            "6\n",
            "7\n",
            "8\n",
            "9\n"
          ],
          "name": "stdout"
        }
      ]
    },
    {
      "cell_type": "markdown",
      "metadata": {
        "id": "ZcCWOk0JN3Q4"
      },
      "source": [
        "**Task 10.2**\r\n",
        "\r\n",
        "What is pass keyword with example"
      ]
    },
    {
      "cell_type": "code",
      "metadata": {
        "id": "H89aWfe0OEgI"
      },
      "source": [
        "# Pass keyword is used for null statements. Nothing happens when pass is executed.\r\n",
        "\r\n",
        "sequence = {'p', 'a', 's', 's'}\r\n",
        "for val in sequence:\r\n",
        "    pass"
      ],
      "execution_count": 4,
      "outputs": []
    },
    {
      "cell_type": "code",
      "metadata": {
        "id": "kLQcI7LjPL_j"
      },
      "source": [
        ""
      ],
      "execution_count": null,
      "outputs": []
    }
  ]
}