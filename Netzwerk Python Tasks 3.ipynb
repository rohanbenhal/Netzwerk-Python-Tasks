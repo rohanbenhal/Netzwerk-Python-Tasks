{
 "cells": [
  {
   "cell_type": "markdown",
   "metadata": {},
   "source": [
    "# Task9\n",
    "* Ask 2 numbers from users and store it in num1 and num2\n",
    "* Ask user to press 1 for addition,2 for subtraction,3 for multiplication and 4 for division\n",
    "* based on number given by user do the math operation"
   ]
  },
  {
   "cell_type": "code",
   "execution_count": 1,
   "metadata": {},
   "outputs": [
    {
     "name": "stdout",
     "output_type": "stream",
     "text": [
      "Enter first number = 5\n",
      "Enter second number = 5\n",
      "Enter 1 for addition, 2 for subtraction, 3 for multiplication, 4 for division = 1\n",
      "Addition =  10\n"
     ]
    }
   ],
   "source": [
    "num1 = int(input(\"Enter first number = \"))\n",
    "num2 = int(input(\"Enter second number = \"))\n",
    "cal = input(\"Enter 1 for addition, 2 for subtraction, 3 for multiplication, 4 for division = \")\n",
    "\n",
    "if (cal == \"1\"):\n",
    "    print(\"Addition = \", num1+num2)\n",
    "elif (cal == \"2\"):\n",
    "    print(\"Subraction = \", num1-num2)\n",
    "elif (cal == \"3\"):\n",
    "    print(\"Multiplication = \", num1*num2)\n",
    "elif (cal == \"4\"):\n",
    "    print(\"Division = \", num1/num2)\n",
    "else:\n",
    "    print(\"Choose the right number\")"
   ]
  },
  {
   "cell_type": "code",
   "execution_count": null,
   "metadata": {},
   "outputs": [],
   "source": []
  }
 ],
 "metadata": {
  "kernelspec": {
   "display_name": "Python 3",
   "language": "python",
   "name": "python3"
  },
  "language_info": {
   "codemirror_mode": {
    "name": "ipython",
    "version": 3
   },
   "file_extension": ".py",
   "mimetype": "text/x-python",
   "name": "python",
   "nbconvert_exporter": "python",
   "pygments_lexer": "ipython3",
   "version": "3.8.5"
  }
 },
 "nbformat": 4,
 "nbformat_minor": 4
}
